{
 "cells": [
  {
   "attachments": {},
   "cell_type": "markdown",
   "metadata": {},
   "source": [
    "List assets file and find those that have a minerva story but do not have a thumbnails"
   ]
  },
  {
   "cell_type": "code",
   "execution_count": null,
   "metadata": {},
   "outputs": [],
   "source": [
    "import json\n",
    "import pandas as pd\n",
    "import imageio"
   ]
  },
  {
   "cell_type": "code",
   "execution_count": null,
   "metadata": {},
   "outputs": [],
   "source": [
    "assets = pd.read_json('assets/htan-imaging-assets.json')\n"
   ]
  },
  {
   "cell_type": "code",
   "execution_count": null,
   "metadata": {},
   "outputs": [],
   "source": [
    "assets"
   ]
  },
  {
   "attachments": {},
   "cell_type": "markdown",
   "metadata": {},
   "source": [
    "Find the 'top' of each group in a minerva story and render into a gif\n",
    "\n"
   ]
  },
  {
   "cell_type": "code",
   "execution_count": null,
   "metadata": {},
   "outputs": [],
   "source": [
    "example_path = '/Users/ataylor/Documents/projects/htan/htan-artist/work/55/60af1f3d89e0bf4bdd2999e38ff925/minerva'"
   ]
  },
  {
   "cell_type": "code",
   "execution_count": null,
   "metadata": {},
   "outputs": [],
   "source": [
    "from pathlib import Path\n",
    "import os\n",
    "import re\n",
    "import glob\n",
    "\n",
    "my_dict = {'path':[],'group':[],'level':[]}\n",
    "\n",
    "for path in glob.iglob(example_path + '**/**/*_0_0.jpg', recursive=True):\n",
    "    group = re.search(r'Group-(\\d+)',path).group(1)\n",
    "    my_dict['group'].append(int(group))\n",
    "#\n",
    "    level = re.search(r'(\\d+)_0_0.jpg',path).group(1)\n",
    "    my_dict['level'].append(int(level)) \n",
    "\n",
    "    my_dict['path'].append(path)    \n",
    "\n",
    "df = pd.DataFrame(my_dict)\n",
    "df.groupby('group')['level'].max()"
   ]
  },
  {
   "cell_type": "code",
   "execution_count": null,
   "metadata": {},
   "outputs": [],
   "source": [
    "top_images = []\n",
    "\n",
    "for group in glob.iglob(example_path + '**/Group*', recursive=True):\n",
    "    levels = []\n",
    "    images = list(glob.iglob(group + '**/*_0_0.jpg', recursive=True))\n",
    "    for image in images:\n",
    "        level = re.search(r'(\\d+)_0_0.jpg',image).group(1)\n",
    "        levels.append(level)\n",
    "    max_level = max(levels)\n",
    "    max_level_idx = levels.index(max_level)\n",
    "    max_image = images[max_level_idx]\n",
    "    top_images.append(max_image)\n",
    "\n",
    "sorted(top_images)\n",
    "\n",
    "imageio.mimsave('test.gif', list(map(imageio.imread, top_images)), duration = 0.5)\n",
    "\n",
    "    \n",
    "\n"
   ]
  },
  {
   "cell_type": "code",
   "execution_count": null,
   "metadata": {},
   "outputs": [],
   "source": []
  },
  {
   "cell_type": "code",
   "execution_count": null,
   "metadata": {},
   "outputs": [],
   "source": []
  },
  {
   "cell_type": "code",
   "execution_count": null,
   "metadata": {},
   "outputs": [],
   "source": []
  },
  {
   "cell_type": "code",
   "execution_count": null,
   "metadata": {},
   "outputs": [],
   "source": []
  },
  {
   "cell_type": "code",
   "execution_count": null,
   "metadata": {},
   "outputs": [],
   "source": []
  },
  {
   "cell_type": "code",
   "execution_count": null,
   "metadata": {},
   "outputs": [],
   "source": []
  },
  {
   "cell_type": "code",
   "execution_count": null,
   "metadata": {},
   "outputs": [],
   "source": []
  },
  {
   "cell_type": "code",
   "execution_count": null,
   "metadata": {},
   "outputs": [],
   "source": []
  },
  {
   "cell_type": "code",
   "execution_count": null,
   "metadata": {},
   "outputs": [],
   "source": [
    "list(glob.iglob(example_path + '**/**/*_0_0.jpg', recursive=True))"
   ]
  },
  {
   "cell_type": "code",
   "execution_count": null,
   "metadata": {},
   "outputs": [],
   "source": []
  },
  {
   "cell_type": "code",
   "execution_count": null,
   "metadata": {},
   "outputs": [],
   "source": []
  },
  {
   "cell_type": "code",
   "execution_count": null,
   "metadata": {},
   "outputs": [],
   "source": []
  },
  {
   "cell_type": "code",
   "execution_count": null,
   "metadata": {},
   "outputs": [],
   "source": []
  },
  {
   "cell_type": "code",
   "execution_count": null,
   "metadata": {},
   "outputs": [],
   "source": []
  },
  {
   "cell_type": "code",
   "execution_count": null,
   "metadata": {},
   "outputs": [],
   "source": [
    "import imageio\n"
   ]
  },
  {
   "cell_type": "code",
   "execution_count": null,
   "metadata": {},
   "outputs": [],
   "source": [
    "import boto3\n",
    "import re"
   ]
  },
  {
   "cell_type": "code",
   "execution_count": null,
   "metadata": {},
   "outputs": [],
   "source": [
    "session = boto3.session.Session(profile_name = 'htan-dev')\n",
    "s3 = session.resource('s3')\n",
    "bucket = s3.Bucket('htan-assets')"
   ]
  },
  {
   "cell_type": "code",
   "execution_count": null,
   "metadata": {},
   "outputs": [],
   "source": [
    "def get_minerva_thumbnail(minerva_url):\n",
    "\n",
    "\n",
    "    cloudflare = 'https://d3p249wtgzkn5u.cloudfront.net/'\n",
    "    prefix = minerva_url.replace(cloudflare,'').replace('/minerva/index.html','')\n",
    "\n",
    "    thumbs = [] \n",
    "\n",
    "    for obj in bucket.objects.filter(Prefix = prefix):\n",
    "        if obj.key.endswith('_0_0.jpg'):\n",
    "            thumbs.append(obj.key)\n",
    "\n",
    "    if re.search('loving_swartz_2',thumbs[0]):\n",
    "        selected = thumbs[2]\n",
    "    elif re.search('naughty_reubens',thumbs[0]):\n",
    "        selected = thumbs[2]\n",
    "    else:\n",
    "        selected = sorted(thumbs)[-1]\n",
    "\n",
    "    thumbnail_url = cloudflare + selected\n",
    "\n",
    "    return(thumbnail_url)\n",
    "\n",
    "\n",
    "\n",
    "get_minerva_thumbnail('https://d3p249wtgzkn5u.cloudfront.net/synid/syn25547797/loving_swartz_2/minerva/index.html')"
   ]
  },
  {
   "cell_type": "code",
   "execution_count": null,
   "metadata": {},
   "outputs": [],
   "source": []
  },
  {
   "cell_type": "code",
   "execution_count": null,
   "metadata": {},
   "outputs": [],
   "source": [
    "re.match(\n",
    "    'synid/syn25547797/loving_swartz_2/minerva/Group-10_36__TargetMYC--37__TargetNa--38__TargetP--39__Targetp53/0_0_0.jpg', \n",
    "    r'.+loving_swartz_2.+'\n",
    "    )"
   ]
  },
  {
   "cell_type": "code",
   "execution_count": null,
   "metadata": {},
   "outputs": [],
   "source": []
  },
  {
   "cell_type": "code",
   "execution_count": null,
   "metadata": {},
   "outputs": [],
   "source": []
  },
  {
   "cell_type": "code",
   "execution_count": null,
   "metadata": {},
   "outputs": [],
   "source": []
  },
  {
   "cell_type": "code",
   "execution_count": null,
   "metadata": {},
   "outputs": [],
   "source": []
  },
  {
   "cell_type": "code",
   "execution_count": null,
   "metadata": {},
   "outputs": [],
   "source": []
  },
  {
   "cell_type": "code",
   "execution_count": null,
   "metadata": {},
   "outputs": [],
   "source": []
  },
  {
   "cell_type": "code",
   "execution_count": null,
   "metadata": {},
   "outputs": [],
   "source": [
    "assets = pd.read_json('assets/htan-imaging-assets.json')\n",
    "\n",
    "new_assets = assets #assets[assets['thumbnail'].isnull()]\n",
    "\n",
    "new_assets['thumbnail'] = new_assets.apply(lambda x: get_minerva_thumbnail(x['minerva']) if(pd.isnull(x['thumbnail'])) else x['thumbnail'], axis = 1)\n",
    "\n",
    "new_assets"
   ]
  },
  {
   "cell_type": "code",
   "execution_count": null,
   "metadata": {},
   "outputs": [],
   "source": [
    "new_assets.to_csv('minerva-thumbs.csv', index=False)"
   ]
  },
  {
   "cell_type": "code",
   "execution_count": null,
   "metadata": {},
   "outputs": [],
   "source": [
    "new_assets.to_json('test.json', orient='records', indent = 4, lines = True)"
   ]
  },
  {
   "cell_type": "code",
   "execution_count": null,
   "metadata": {},
   "outputs": [],
   "source": [
    "with open(\"test.json\", \"w+\") as f:\n",
    "    json.dump(new_assets.to_dict(orient=\"record\"), f, indent=4)"
   ]
  }
 ],
 "metadata": {
  "kernelspec": {
   "display_name": "htan-auditor",
   "language": "python",
   "name": "python3"
  },
  "language_info": {
   "codemirror_mode": {
    "name": "ipython",
    "version": 3
   },
   "file_extension": ".py",
   "mimetype": "text/x-python",
   "name": "python",
   "nbconvert_exporter": "python",
   "pygments_lexer": "ipython3",
   "version": "3.9.7"
  },
  "orig_nbformat": 4,
  "vscode": {
   "interpreter": {
    "hash": "b85d3d8b447a4eea37ed4cdd4b7d3c7058a2084dd9c1e70e8d9d28046c455478"
   }
  }
 },
 "nbformat": 4,
 "nbformat_minor": 2
}
